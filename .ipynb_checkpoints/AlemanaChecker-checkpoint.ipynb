{
 "cells": [
  {
   "cell_type": "code",
   "execution_count": null,
   "metadata": {},
   "outputs": [],
   "source": [
    "import requests #librería para hacer consultas https\n",
    "from time import sleep\n",
    "import random\n",
    "from knockknock import email_sender\n",
    "\n",
    "key = 'No hemos'\n",
    "\n",
    "header = {\n",
    "    \n",
    "'Accept' : \t'text/html,application/xhtml+xml,application/xml;q=0.9,image/avif,image/webp,*/*;q=0.8',\n",
    "'Accept-Encoding' : 'gzip, deflate, br',\n",
    "'Accept-Language' : 'en-US,en;q=0.5',\n",
    "'Connection' : 'keep-alive',\n",
    "'DNT' : '1',\n",
    "'Host' : \t'www.alemana.cl',\n",
    "'Referer' : 'https://www.clinicaalemana.cl/',\n",
    "'Sec-Fetch-Dest' : \t'document',\n",
    "'Sec-Fetch-Mode' : 'navigate',\n",
    "'Sec-Fetch-Site' : 'cross-site',\n",
    "'Sec-Fetch-User' : '?1',\n",
    "'Upgrade-Insecure-Requests' : '1',\n",
    "'User-Agent' : 'Mozilla/5.0 (Windows NT 10.0; Win64; x64; rv:99.0) Gecko/20100101 Firefox/99.0'\n",
    "    }\n",
    "\n",
    "URL = 'https://www.alemana.cl/ReservaDeHoras/resultado-busqueda-area.aspx?idEmp=2&horario=todas&su=-1&idioma=todas&valorArea=Vacuna Covid-19 refuerzo&Am=241,0&Ai=-1&CentrosSalud=-1&centroNombre=&CenAm=-1&CenAi=-1&idAgenda=undefined&rp=&ipac=0&idreserva=&buscar-nombre=&dispositivo=2&cal=1&linkPortal='\n",
    "\n",
    "@email_sender(recipient_emails=[\"ccalvo@ciren.cl\"], sender_email=\"ham.ccm@gmail.com\")\n",
    "def main():\n",
    "    while True:\n",
    "        sleep(random.randint(30,32))\n",
    "        r = requests.get(URL, headers = header, stream = True)\n",
    "        if not key in r.text:\n",
    "            # playsound('distress.wav')\n",
    "            print(\"Hora disponible!\")\n",
    "            break\n",
    "\n",
    "if __name__=='__main__':\n",
    "    main()"
   ]
  },
  {
   "cell_type": "code",
   "execution_count": null,
   "metadata": {},
   "outputs": [],
   "source": []
  }
 ],
 "metadata": {
  "kernelspec": {
   "display_name": "py38",
   "language": "python",
   "name": "py38"
  },
  "language_info": {
   "codemirror_mode": {
    "name": "ipython",
    "version": 3
   },
   "file_extension": ".py",
   "mimetype": "text/x-python",
   "name": "python",
   "nbconvert_exporter": "python",
   "pygments_lexer": "ipython3",
   "version": "3.8.2"
  }
 },
 "nbformat": 4,
 "nbformat_minor": 5
}
